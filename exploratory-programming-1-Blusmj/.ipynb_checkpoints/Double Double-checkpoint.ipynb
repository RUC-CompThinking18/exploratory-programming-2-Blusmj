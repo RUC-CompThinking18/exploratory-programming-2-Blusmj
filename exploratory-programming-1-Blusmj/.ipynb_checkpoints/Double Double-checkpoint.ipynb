{
 "cells": [
  {
   "cell_type": "code",
   "execution_count": 29,
   "metadata": {},
   "outputs": [
    {
     "name": "stdout",
     "output_type": "stream",
     "text": [
      "[4, 16, 32, 52]\n"
     ]
    }
   ],
   "source": [
    "def double(sequence): #This defines the function so I won't have to put in the function everytime I call\n",
    "    result = []\n",
    "    for element in sequence: \n",
    "        result = result +[element * 4]\n",
    "        #This code makes the result of the computation for the number and element to be multiplied by 4\n",
    "    return result #Return makes it give the result that was multiplied by 4\n",
    "num=[1,4,8,13]\n",
    "print double(num)"
   ]
  },
  {
   "cell_type": "code",
   "execution_count": 34,
   "metadata": {},
   "outputs": [
    {
     "data": {
      "text/plain": [
       "[16, 8, 12]"
      ]
     },
     "execution_count": 34,
     "metadata": {},
     "output_type": "execute_result"
    }
   ],
   "source": [
    "double([4,2,3])"
   ]
  },
  {
   "cell_type": "code",
   "execution_count": 37,
   "metadata": {},
   "outputs": [
    {
     "name": "stdout",
     "output_type": "stream",
     "text": [
      "[12, 28, 32, 76]\n"
     ]
    }
   ],
   "source": [
    "num2= [3,7,8,19]\n",
    "print double(num2)"
   ]
  },
  {
   "cell_type": "code",
   "execution_count": 38,
   "metadata": {},
   "outputs": [
    {
     "name": "stdout",
     "output_type": "stream",
     "text": [
      "[40, 52, 36]\n"
     ]
    }
   ],
   "source": [
    "num3=[10,13,9]\n",
    "print double(num3)"
   ]
  },
  {
   "cell_type": "code",
   "execution_count": 43,
   "metadata": {},
   "outputs": [
    {
     "name": "stdout",
     "output_type": "stream",
     "text": [
      "[[1, 4, 8, 13], [3, 7, 8, 19], [10, 13, 9]]\n"
     ]
    }
   ],
   "source": [
    "num4=[num,num2,num3]\n",
    "print (num4)"
   ]
  },
  {
   "cell_type": "code",
   "execution_count": null,
   "metadata": {},
   "outputs": [],
   "source": []
  }
 ],
 "metadata": {
  "kernelspec": {
   "display_name": "Python 2",
   "language": "python",
   "name": "python2"
  },
  "language_info": {
   "codemirror_mode": {
    "name": "ipython",
    "version": 2
   },
   "file_extension": ".py",
   "mimetype": "text/x-python",
   "name": "python",
   "nbconvert_exporter": "python",
   "pygments_lexer": "ipython2",
   "version": "2.7.15"
  }
 },
 "nbformat": 4,
 "nbformat_minor": 2
}
