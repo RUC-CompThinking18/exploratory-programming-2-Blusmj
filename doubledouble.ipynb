def double(sequence): #This defines the function so I won't have to put in the function everytime I call
    result = []
    for element in sequence:
        result = result +[element * 4]
        #This code makes the result of the computation for the number and element to be multiplied by 4
    return result #Return makes it give the result that was multiplied by 4
num=[1,4,8,13]
print double(num)

double([4,2,3])

num2= [3,7,8,19]
print double(num2)

num3=[10,13,9]
print double(num3)

num4=[num,num2,num3]
print (num4)
